{
 "cells": [
  {
   "cell_type": "markdown",
   "metadata": {},
   "source": [
    "# 0. Import Packages"
   ]
  },
  {
   "cell_type": "code",
   "execution_count": 5,
   "metadata": {},
   "outputs": [],
   "source": [
    "import numpy as np\n",
    "import pandas as pd\n",
    "import matplotlib.pyplot as plt\n",
    "import tensorflow as tf\n",
    "import keras\n",
    "import os\n",
    "import glob\n",
    "import seaborn as sns"
   ]
  },
  {
   "cell_type": "code",
   "execution_count": 6,
   "metadata": {},
   "outputs": [
    {
     "name": "stdout",
     "output_type": "stream",
     "text": [
      "['-10℃', '0℃', '10℃', '20℃', '25℃', '30℃', '40℃', '50℃']\n"
     ]
    }
   ],
   "source": [
    "dir = \"Dynamic Profile Files\"\n",
    "listdir = os.listdir(dir)\n",
    "\n",
    "print(listdir)"
   ]
  },
  {
   "cell_type": "markdown",
   "metadata": {},
   "source": [
    "# 1. Data Processing"
   ]
  },
  {
   "cell_type": "code",
   "execution_count": 48,
   "metadata": {},
   "outputs": [
    {
     "name": "stdout",
     "output_type": "stream",
     "text": [
      "007 N10\n",
      "008 N10\n",
      "007 0\n",
      "008 0\n",
      "007 10\n",
      "008 10\n",
      "007 20\n",
      "008 20\n",
      "007 25\n",
      "008 25\n",
      "007 30\n",
      "008 30\n",
      "007 40\n",
      "008 40\n",
      "007 50\n",
      "008 50\n"
     ]
    }
   ],
   "source": [
    "dir_temp = ['-10℃', '0℃', '10℃', '20℃', '25℃', '30℃', '40℃', '50℃']\n",
    "temp = ['N10', '0', '10', '20', '25', '30', '40', '50']\n",
    "num = ['007', '008']\n",
    "\n",
    "for i in range(len(dir_temp)):\n",
    "    for j in range(len(num)):\n",
    "        sheet_name = 1\n",
    "        vector = np.zeros((1,5))\n",
    "        path = os.path.join(os.getcwd(), 'Dynamic Profile Files/'+ dir_temp[i] + '/', 'A1-' + num[j] + '-DST-US06-FUDS-' + temp[i] + '.xlsx')\n",
    "        excel = pd.read_excel(path, sheet_name=sheet_name)\n",
    "        df = pd.DataFrame(excel)\n",
    "        \n",
    "        vec = df[['Step_Index', 'Current(A)', 'Voltage(V)', 'Temperature (C)_1', 'Discharge_Capacity(Ah)']]\n",
    "\n",
    "        globals()['data_{}'.format(num[j] + '_DST_' + temp[i])] = vec[vec['Step_Index'] == 8]\n",
    "        globals()['data_{}'.format(num[j] + '_US06_' + temp[i])] = vec[vec['Step_Index'] == 16]\n",
    "        globals()['data_{}'.format(num[j] + '_FUDS_' + temp[i])] = vec[vec['Step_Index'] == 24]\n",
    "        \n",
    "        print(num[j], temp[i])"
   ]
  },
  {
   "cell_type": "markdown",
   "metadata": {},
   "source": [
    "# 2. Make SoC Column"
   ]
  },
  {
   "cell_type": "code",
   "execution_count": 49,
   "metadata": {},
   "outputs": [
    {
     "name": "stdout",
     "output_type": "stream",
     "text": [
      "      Step_Index  Current(A)  Voltage(V)  Temperature (C)_1  \\\n",
      "949            8    0.000378    3.556453          31.986296   \n",
      "950            8    0.000191    3.556146          31.955856   \n",
      "951            8    0.000191    3.555838          31.986296   \n",
      "952            8    0.000378    3.555838          31.986296   \n",
      "953            8    0.000191    3.555530          31.911924   \n",
      "...          ...         ...         ...                ...   \n",
      "8404           8   -0.480657    2.490934          32.574238   \n",
      "8405           8   -0.480845    2.484471          32.574238   \n",
      "8406           8   -0.480845    2.478007          32.499912   \n",
      "8407           8   -0.480657    2.470928          32.499912   \n",
      "8408           8   -3.844148    1.949556          32.574238   \n",
      "\n",
      "      Discharge_Capacity(Ah)  \n",
      "949                 0.042383  \n",
      "950                 0.042383  \n",
      "951                 0.042383  \n",
      "952                 0.042383  \n",
      "953                 0.042383  \n",
      "...                      ...  \n",
      "8404                1.276907  \n",
      "8405                1.277040  \n",
      "8406                1.277174  \n",
      "8407                1.277308  \n",
      "8408                1.277436  \n",
      "\n",
      "[7440 rows x 5 columns]\n"
     ]
    },
    {
     "name": "stderr",
     "output_type": "stream",
     "text": [
      "C:\\Users\\ays99\\AppData\\Local\\Temp\\ipykernel_8740\\902381952.py:15: SettingWithCopyWarning: \n",
      "A value is trying to be set on a copy of a slice from a DataFrame.\n",
      "Try using .loc[row_indexer,col_indexer] = value instead\n",
      "\n",
      "See the caveats in the documentation: https://pandas.pydata.org/pandas-docs/stable/user_guide/indexing.html#returning-a-view-versus-a-copy\n",
      "  var_table['SoC'] = (b - var_table['Discharge_Capacity(Ah)'])/(b-a) * 80\n",
      "C:\\Users\\ays99\\AppData\\Local\\Temp\\ipykernel_8740\\902381952.py:15: SettingWithCopyWarning: \n",
      "A value is trying to be set on a copy of a slice from a DataFrame.\n",
      "Try using .loc[row_indexer,col_indexer] = value instead\n",
      "\n",
      "See the caveats in the documentation: https://pandas.pydata.org/pandas-docs/stable/user_guide/indexing.html#returning-a-view-versus-a-copy\n",
      "  var_table['SoC'] = (b - var_table['Discharge_Capacity(Ah)'])/(b-a) * 80\n",
      "C:\\Users\\ays99\\AppData\\Local\\Temp\\ipykernel_8740\\902381952.py:15: SettingWithCopyWarning: \n",
      "A value is trying to be set on a copy of a slice from a DataFrame.\n",
      "Try using .loc[row_indexer,col_indexer] = value instead\n",
      "\n",
      "See the caveats in the documentation: https://pandas.pydata.org/pandas-docs/stable/user_guide/indexing.html#returning-a-view-versus-a-copy\n",
      "  var_table['SoC'] = (b - var_table['Discharge_Capacity(Ah)'])/(b-a) * 80\n"
     ]
    }
   ],
   "source": [
    "temp = ['N10', '0', '10', '20', '25', '30', '40', '50']\n",
    "num = ['007', '008']\n",
    "mode = ['DST', 'US06', 'FUDS']\n",
    "\n",
    "print(data_007_DST_30)\n",
    "\n",
    "for i in temp:\n",
    "    for j in num:\n",
    "        for k in mode:\n",
    "            var_name = f'data_{j}_{k}_{i}'\n",
    "            var_table = globals()[var_name]\n",
    "            var_table.reset_index(drop=True, inplace=True)\n",
    "            a = var_table.loc[0, 'Discharge_Capacity(Ah)']\n",
    "            b = var_table.loc[len(var_table)-1, 'Discharge_Capacity(Ah)']\n",
    "            var_table['SoC'] = (b - var_table['Discharge_Capacity(Ah)'])/(b-a) * 80\n",
    "            var_table = var_table[['Current(A)', 'Voltage(V)', 'Temperature (C)_1', 'SoC']]\n",
    "            globals()[var_name] = var_table"
   ]
  },
  {
   "cell_type": "code",
   "execution_count": null,
   "metadata": {},
   "outputs": [],
   "source": [
    "print(data_007_DST_N10)"
   ]
  },
  {
   "cell_type": "markdown",
   "metadata": {},
   "source": [
    "# 3. Save Refined_data"
   ]
  },
  {
   "cell_type": "code",
   "execution_count": 47,
   "metadata": {},
   "outputs": [
    {
     "name": "stdout",
     "output_type": "stream",
     "text": [
      "c:\\Users\\ays99\\Documents\\2024 대학\\1학기\\캡디\\project\\SoC_capstone\\DB Preprocessing\\refined_data/N10/DST/data_007_DST_N10.csv\n",
      "c:\\Users\\ays99\\Documents\\2024 대학\\1학기\\캡디\\project\\SoC_capstone\\DB Preprocessing\\refined_data/N10/US06/data_007_US06_N10.csv\n",
      "c:\\Users\\ays99\\Documents\\2024 대학\\1학기\\캡디\\project\\SoC_capstone\\DB Preprocessing\\refined_data/N10/FUDS/data_007_FUDS_N10.csv\n",
      "c:\\Users\\ays99\\Documents\\2024 대학\\1학기\\캡디\\project\\SoC_capstone\\DB Preprocessing\\refined_data/N10/DST/data_008_DST_N10.csv\n",
      "c:\\Users\\ays99\\Documents\\2024 대학\\1학기\\캡디\\project\\SoC_capstone\\DB Preprocessing\\refined_data/N10/US06/data_008_US06_N10.csv\n",
      "c:\\Users\\ays99\\Documents\\2024 대학\\1학기\\캡디\\project\\SoC_capstone\\DB Preprocessing\\refined_data/N10/FUDS/data_008_FUDS_N10.csv\n",
      "c:\\Users\\ays99\\Documents\\2024 대학\\1학기\\캡디\\project\\SoC_capstone\\DB Preprocessing\\refined_data/0/DST/data_007_DST_0.csv\n",
      "c:\\Users\\ays99\\Documents\\2024 대학\\1학기\\캡디\\project\\SoC_capstone\\DB Preprocessing\\refined_data/0/US06/data_007_US06_0.csv\n",
      "c:\\Users\\ays99\\Documents\\2024 대학\\1학기\\캡디\\project\\SoC_capstone\\DB Preprocessing\\refined_data/0/FUDS/data_007_FUDS_0.csv\n",
      "c:\\Users\\ays99\\Documents\\2024 대학\\1학기\\캡디\\project\\SoC_capstone\\DB Preprocessing\\refined_data/0/DST/data_008_DST_0.csv\n",
      "c:\\Users\\ays99\\Documents\\2024 대학\\1학기\\캡디\\project\\SoC_capstone\\DB Preprocessing\\refined_data/0/US06/data_008_US06_0.csv\n",
      "c:\\Users\\ays99\\Documents\\2024 대학\\1학기\\캡디\\project\\SoC_capstone\\DB Preprocessing\\refined_data/0/FUDS/data_008_FUDS_0.csv\n",
      "c:\\Users\\ays99\\Documents\\2024 대학\\1학기\\캡디\\project\\SoC_capstone\\DB Preprocessing\\refined_data/10/DST/data_007_DST_10.csv\n",
      "c:\\Users\\ays99\\Documents\\2024 대학\\1학기\\캡디\\project\\SoC_capstone\\DB Preprocessing\\refined_data/10/US06/data_007_US06_10.csv\n",
      "c:\\Users\\ays99\\Documents\\2024 대학\\1학기\\캡디\\project\\SoC_capstone\\DB Preprocessing\\refined_data/10/FUDS/data_007_FUDS_10.csv\n",
      "c:\\Users\\ays99\\Documents\\2024 대학\\1학기\\캡디\\project\\SoC_capstone\\DB Preprocessing\\refined_data/10/DST/data_008_DST_10.csv\n",
      "c:\\Users\\ays99\\Documents\\2024 대학\\1학기\\캡디\\project\\SoC_capstone\\DB Preprocessing\\refined_data/10/US06/data_008_US06_10.csv\n",
      "c:\\Users\\ays99\\Documents\\2024 대학\\1학기\\캡디\\project\\SoC_capstone\\DB Preprocessing\\refined_data/10/FUDS/data_008_FUDS_10.csv\n",
      "c:\\Users\\ays99\\Documents\\2024 대학\\1학기\\캡디\\project\\SoC_capstone\\DB Preprocessing\\refined_data/20/DST/data_007_DST_20.csv\n",
      "c:\\Users\\ays99\\Documents\\2024 대학\\1학기\\캡디\\project\\SoC_capstone\\DB Preprocessing\\refined_data/20/US06/data_007_US06_20.csv\n",
      "c:\\Users\\ays99\\Documents\\2024 대학\\1학기\\캡디\\project\\SoC_capstone\\DB Preprocessing\\refined_data/20/FUDS/data_007_FUDS_20.csv\n",
      "c:\\Users\\ays99\\Documents\\2024 대학\\1학기\\캡디\\project\\SoC_capstone\\DB Preprocessing\\refined_data/20/DST/data_008_DST_20.csv\n",
      "c:\\Users\\ays99\\Documents\\2024 대학\\1학기\\캡디\\project\\SoC_capstone\\DB Preprocessing\\refined_data/20/US06/data_008_US06_20.csv\n",
      "c:\\Users\\ays99\\Documents\\2024 대학\\1학기\\캡디\\project\\SoC_capstone\\DB Preprocessing\\refined_data/20/FUDS/data_008_FUDS_20.csv\n",
      "c:\\Users\\ays99\\Documents\\2024 대학\\1학기\\캡디\\project\\SoC_capstone\\DB Preprocessing\\refined_data/25/DST/data_007_DST_25.csv\n",
      "c:\\Users\\ays99\\Documents\\2024 대학\\1학기\\캡디\\project\\SoC_capstone\\DB Preprocessing\\refined_data/25/US06/data_007_US06_25.csv\n",
      "c:\\Users\\ays99\\Documents\\2024 대학\\1학기\\캡디\\project\\SoC_capstone\\DB Preprocessing\\refined_data/25/FUDS/data_007_FUDS_25.csv\n",
      "c:\\Users\\ays99\\Documents\\2024 대학\\1학기\\캡디\\project\\SoC_capstone\\DB Preprocessing\\refined_data/25/DST/data_008_DST_25.csv\n",
      "c:\\Users\\ays99\\Documents\\2024 대학\\1학기\\캡디\\project\\SoC_capstone\\DB Preprocessing\\refined_data/25/US06/data_008_US06_25.csv\n",
      "c:\\Users\\ays99\\Documents\\2024 대학\\1학기\\캡디\\project\\SoC_capstone\\DB Preprocessing\\refined_data/25/FUDS/data_008_FUDS_25.csv\n",
      "c:\\Users\\ays99\\Documents\\2024 대학\\1학기\\캡디\\project\\SoC_capstone\\DB Preprocessing\\refined_data/30/DST/data_007_DST_30.csv\n",
      "c:\\Users\\ays99\\Documents\\2024 대학\\1학기\\캡디\\project\\SoC_capstone\\DB Preprocessing\\refined_data/30/US06/data_007_US06_30.csv\n",
      "c:\\Users\\ays99\\Documents\\2024 대학\\1학기\\캡디\\project\\SoC_capstone\\DB Preprocessing\\refined_data/30/FUDS/data_007_FUDS_30.csv\n",
      "c:\\Users\\ays99\\Documents\\2024 대학\\1학기\\캡디\\project\\SoC_capstone\\DB Preprocessing\\refined_data/30/DST/data_008_DST_30.csv\n",
      "c:\\Users\\ays99\\Documents\\2024 대학\\1학기\\캡디\\project\\SoC_capstone\\DB Preprocessing\\refined_data/30/US06/data_008_US06_30.csv\n",
      "c:\\Users\\ays99\\Documents\\2024 대학\\1학기\\캡디\\project\\SoC_capstone\\DB Preprocessing\\refined_data/30/FUDS/data_008_FUDS_30.csv\n",
      "c:\\Users\\ays99\\Documents\\2024 대학\\1학기\\캡디\\project\\SoC_capstone\\DB Preprocessing\\refined_data/40/DST/data_007_DST_40.csv\n",
      "c:\\Users\\ays99\\Documents\\2024 대학\\1학기\\캡디\\project\\SoC_capstone\\DB Preprocessing\\refined_data/40/US06/data_007_US06_40.csv\n",
      "c:\\Users\\ays99\\Documents\\2024 대학\\1학기\\캡디\\project\\SoC_capstone\\DB Preprocessing\\refined_data/40/FUDS/data_007_FUDS_40.csv\n",
      "c:\\Users\\ays99\\Documents\\2024 대학\\1학기\\캡디\\project\\SoC_capstone\\DB Preprocessing\\refined_data/40/DST/data_008_DST_40.csv\n",
      "c:\\Users\\ays99\\Documents\\2024 대학\\1학기\\캡디\\project\\SoC_capstone\\DB Preprocessing\\refined_data/40/US06/data_008_US06_40.csv\n",
      "c:\\Users\\ays99\\Documents\\2024 대학\\1학기\\캡디\\project\\SoC_capstone\\DB Preprocessing\\refined_data/40/FUDS/data_008_FUDS_40.csv\n",
      "c:\\Users\\ays99\\Documents\\2024 대학\\1학기\\캡디\\project\\SoC_capstone\\DB Preprocessing\\refined_data/50/DST/data_007_DST_50.csv\n",
      "c:\\Users\\ays99\\Documents\\2024 대학\\1학기\\캡디\\project\\SoC_capstone\\DB Preprocessing\\refined_data/50/US06/data_007_US06_50.csv\n",
      "c:\\Users\\ays99\\Documents\\2024 대학\\1학기\\캡디\\project\\SoC_capstone\\DB Preprocessing\\refined_data/50/FUDS/data_007_FUDS_50.csv\n",
      "c:\\Users\\ays99\\Documents\\2024 대학\\1학기\\캡디\\project\\SoC_capstone\\DB Preprocessing\\refined_data/50/DST/data_008_DST_50.csv\n",
      "c:\\Users\\ays99\\Documents\\2024 대학\\1학기\\캡디\\project\\SoC_capstone\\DB Preprocessing\\refined_data/50/US06/data_008_US06_50.csv\n",
      "c:\\Users\\ays99\\Documents\\2024 대학\\1학기\\캡디\\project\\SoC_capstone\\DB Preprocessing\\refined_data/50/FUDS/data_008_FUDS_50.csv\n"
     ]
    }
   ],
   "source": [
    "temp = ['N10', '0', '10', '20', '25', '30', '40', '50']\n",
    "num = ['007', '008']\n",
    "mode = ['DST', 'US06', 'FUDS']\n",
    "\n",
    "for i in temp:\n",
    "    for j in num:\n",
    "        for k in mode:\n",
    "            var_name = f'data_{j}_{k}_{i}'\n",
    "            save_path = os.path.join(os.getcwd(), 'refined_data/'+ i + '/' + k + '/' + var_name + '.csv')\n",
    "            print(save_path)\n",
    "            globals()[var_name].to_csv(save_path, index=False)\n"
   ]
  }
 ],
 "metadata": {
  "kernelspec": {
   "display_name": "venv",
   "language": "python",
   "name": "python3"
  },
  "language_info": {
   "codemirror_mode": {
    "name": "ipython",
    "version": 3
   },
   "file_extension": ".py",
   "mimetype": "text/x-python",
   "name": "python",
   "nbconvert_exporter": "python",
   "pygments_lexer": "ipython3",
   "version": "3.12.3"
  }
 },
 "nbformat": 4,
 "nbformat_minor": 2
}
