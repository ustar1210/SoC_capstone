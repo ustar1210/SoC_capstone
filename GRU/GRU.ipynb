{
 "cells": [
  {
   "cell_type": "markdown",
   "metadata": {},
   "source": [
    "# 0. Import Packages"
   ]
  },
  {
   "cell_type": "code",
   "execution_count": 221,
   "metadata": {},
   "outputs": [],
   "source": [
    "import numpy as np\n",
    "import pandas as pd\n",
    "import matplotlib.pyplot as plt\n",
    "import tensorflow as tf\n",
    "import keras\n",
    "import os\n",
    "import glob\n",
    "import seaborn as sns\n",
    "from mpl_toolkits.mplot3d import Axes3D\n",
    "import math\n",
    "\n",
    "import tensorflow as tf\n",
    "from sklearn.preprocessing import MinMaxScaler\n",
    "from sklearn.metrics import mean_squared_error, mean_absolute_error\n",
    "from keras_preprocessing.sequence import TimeseriesGenerator\n",
    "from keras import Sequential\n",
    "from keras import layers\n",
    "from keras.src.layers.core.dense import Dense\n",
    "from keras.src.layers.reshaping.flatten import Flatten\n",
    "from keras.src.layers.rnn.lstm import LSTM\n",
    "from keras.src.layers.rnn.rnn import RNN\n",
    "from keras.src.optimizers.rmsprop import RMSprop\n",
    "from keras.src.callbacks.early_stopping import EarlyStopping\n",
    "from keras.src.callbacks.model_checkpoint import ModelCheckpoint\n",
    "from keras.src.models.model import model_from_json\n",
    "from keras import optimizers"
   ]
  },
  {
   "cell_type": "markdown",
   "metadata": {},
   "source": [
    "# 1. Load data"
   ]
  },
  {
   "cell_type": "code",
   "execution_count": 222,
   "metadata": {},
   "outputs": [
    {
     "name": "stdout",
     "output_type": "stream",
     "text": [
      "csv_DST_007 생성 완료\n",
      "csv_DST_008 생성 완료\n",
      "csv_FUDS_007 생성 완료\n",
      "csv_FUDS_008 생성 완료\n",
      "csv_US06_007 생성 완료\n",
      "csv_US06_008 생성 완료\n"
     ]
    }
   ],
   "source": [
    "# 온도 선택 [N10, 0, 10, 20, 25, 30, 40, 50], temp 변수에 설정\n",
    "\n",
    "temp = '20'\n",
    "mode = ['DST', 'FUDS' ,'US06']\n",
    "current_dir = os.getcwd()\n",
    "parent_dir = os.path.abspath(os.path.join(current_dir, os.pardir))\n",
    "\n",
    "for m in mode:\n",
    "    data_dir = os.path.join(parent_dir, f'DB Preprocessing/refined_data/{temp}/{m}')\n",
    "    file_names = os.listdir(data_dir)\n",
    "    for file_name in file_names:\n",
    "        csv_dir = os.path.join(data_dir, file_name)\n",
    "        if '007' in file_name:\n",
    "            num = '007'\n",
    "        else: \n",
    "            num = '008'\n",
    "        globals()['csv_{}'.format(f'{m}_{num}')] = pd.DataFrame(pd.read_csv(csv_dir))\n",
    "        print(f'csv_{m}_{num} 생성 완료')"
   ]
  },
  {
   "cell_type": "code",
   "execution_count": 223,
   "metadata": {},
   "outputs": [
    {
     "data": {
      "text/html": [
       "<div>\n",
       "<style scoped>\n",
       "    .dataframe tbody tr th:only-of-type {\n",
       "        vertical-align: middle;\n",
       "    }\n",
       "\n",
       "    .dataframe tbody tr th {\n",
       "        vertical-align: top;\n",
       "    }\n",
       "\n",
       "    .dataframe thead th {\n",
       "        text-align: right;\n",
       "    }\n",
       "</style>\n",
       "<table border=\"1\" class=\"dataframe\">\n",
       "  <thead>\n",
       "    <tr style=\"text-align: right;\">\n",
       "      <th></th>\n",
       "      <th>Current(A)</th>\n",
       "      <th>Voltage(V)</th>\n",
       "      <th>Temperature (C)_1</th>\n",
       "      <th>SoC</th>\n",
       "    </tr>\n",
       "  </thead>\n",
       "  <tbody>\n",
       "    <tr>\n",
       "      <th>0</th>\n",
       "      <td>0.000191</td>\n",
       "      <td>3.551529</td>\n",
       "      <td>20.038303</td>\n",
       "      <td>80.000000</td>\n",
       "    </tr>\n",
       "    <tr>\n",
       "      <th>1</th>\n",
       "      <td>0.000191</td>\n",
       "      <td>3.551221</td>\n",
       "      <td>20.144194</td>\n",
       "      <td>80.000000</td>\n",
       "    </tr>\n",
       "    <tr>\n",
       "      <th>2</th>\n",
       "      <td>0.000191</td>\n",
       "      <td>3.551221</td>\n",
       "      <td>20.069010</td>\n",
       "      <td>80.000000</td>\n",
       "    </tr>\n",
       "    <tr>\n",
       "      <th>3</th>\n",
       "      <td>0.000191</td>\n",
       "      <td>3.550606</td>\n",
       "      <td>20.069010</td>\n",
       "      <td>80.000000</td>\n",
       "    </tr>\n",
       "    <tr>\n",
       "      <th>4</th>\n",
       "      <td>0.000003</td>\n",
       "      <td>3.550606</td>\n",
       "      <td>20.144194</td>\n",
       "      <td>80.000000</td>\n",
       "    </tr>\n",
       "    <tr>\n",
       "      <th>...</th>\n",
       "      <td>...</td>\n",
       "      <td>...</td>\n",
       "      <td>...</td>\n",
       "      <td>...</td>\n",
       "    </tr>\n",
       "    <tr>\n",
       "      <th>7298</th>\n",
       "      <td>-0.480845</td>\n",
       "      <td>2.154227</td>\n",
       "      <td>20.574072</td>\n",
       "      <td>0.032111</td>\n",
       "    </tr>\n",
       "    <tr>\n",
       "      <th>7299</th>\n",
       "      <td>-0.480845</td>\n",
       "      <td>2.113601</td>\n",
       "      <td>20.679928</td>\n",
       "      <td>0.023337</td>\n",
       "    </tr>\n",
       "    <tr>\n",
       "      <th>7300</th>\n",
       "      <td>-0.480845</td>\n",
       "      <td>2.070204</td>\n",
       "      <td>20.512659</td>\n",
       "      <td>0.014475</td>\n",
       "    </tr>\n",
       "    <tr>\n",
       "      <th>7301</th>\n",
       "      <td>-0.480845</td>\n",
       "      <td>2.027424</td>\n",
       "      <td>20.512659</td>\n",
       "      <td>0.005616</td>\n",
       "    </tr>\n",
       "    <tr>\n",
       "      <th>7302</th>\n",
       "      <td>-0.480845</td>\n",
       "      <td>1.999724</td>\n",
       "      <td>20.587812</td>\n",
       "      <td>0.000000</td>\n",
       "    </tr>\n",
       "  </tbody>\n",
       "</table>\n",
       "<p>7303 rows × 4 columns</p>\n",
       "</div>"
      ],
      "text/plain": [
       "      Current(A)  Voltage(V)  Temperature (C)_1        SoC\n",
       "0       0.000191    3.551529          20.038303  80.000000\n",
       "1       0.000191    3.551221          20.144194  80.000000\n",
       "2       0.000191    3.551221          20.069010  80.000000\n",
       "3       0.000191    3.550606          20.069010  80.000000\n",
       "4       0.000003    3.550606          20.144194  80.000000\n",
       "...          ...         ...                ...        ...\n",
       "7298   -0.480845    2.154227          20.574072   0.032111\n",
       "7299   -0.480845    2.113601          20.679928   0.023337\n",
       "7300   -0.480845    2.070204          20.512659   0.014475\n",
       "7301   -0.480845    2.027424          20.512659   0.005616\n",
       "7302   -0.480845    1.999724          20.587812   0.000000\n",
       "\n",
       "[7303 rows x 4 columns]"
      ]
     },
     "execution_count": 223,
     "metadata": {},
     "output_type": "execute_result"
    }
   ],
   "source": [
    "csv_DST_007"
   ]
  },
  {
   "cell_type": "markdown",
   "metadata": {},
   "source": [
    "# 2. V, I, T / SoC 분리 "
   ]
  },
  {
   "cell_type": "code",
   "execution_count": 224,
   "metadata": {},
   "outputs": [
    {
     "name": "stdout",
     "output_type": "stream",
     "text": [
      "input_DST_007 생성 완료\n",
      "output_DST_007 생성 완료\n",
      "input_DST_008 생성 완료\n",
      "output_DST_008 생성 완료\n",
      "input_FUDS_007 생성 완료\n",
      "output_FUDS_007 생성 완료\n",
      "input_FUDS_008 생성 완료\n",
      "output_FUDS_008 생성 완료\n",
      "input_US06_007 생성 완료\n",
      "output_US06_007 생성 완료\n",
      "input_US06_008 생성 완료\n",
      "output_US06_008 생성 완료\n"
     ]
    }
   ],
   "source": [
    "num = ['007','008']\n",
    "\n",
    "def df2numpy(df):\n",
    "    np = df.values\n",
    "    return np\n",
    "\n",
    "for m in mode:\n",
    "    for n in num:\n",
    "        var_name = f'csv_{m}_{n}'\n",
    "        csv = globals()[var_name]\n",
    "        globals()[f'input_{m}_{n}'] = df2numpy(csv[['Current(A)', 'Voltage(V)', 'Temperature (C)_1']])\n",
    "        print(f'input_{m}_{n} 생성 완료')\n",
    "        globals()[f'output_{m}_{n}'] = df2numpy(csv[['SoC']])\n",
    "        print(f'output_{m}_{n} 생성 완료')"
   ]
  },
  {
   "cell_type": "code",
   "execution_count": 225,
   "metadata": {},
   "outputs": [
    {
     "name": "stdout",
     "output_type": "stream",
     "text": [
      "(7303, 3)\n"
     ]
    },
    {
     "data": {
      "text/plain": [
       "array([[ 1.90588195e-04,  3.55152917e+00,  2.00383034e+01],\n",
       "       [ 1.90588195e-04,  3.55122137e+00,  2.01441936e+01],\n",
       "       [ 1.90588195e-04,  3.55122137e+00,  2.00690098e+01],\n",
       "       ...,\n",
       "       [-4.80844796e-01,  2.07020450e+00,  2.05126591e+01],\n",
       "       [-4.80844796e-01,  2.02742362e+00,  2.05126591e+01],\n",
       "       [-4.80844796e-01,  1.99972391e+00,  2.05878124e+01]])"
      ]
     },
     "execution_count": 225,
     "metadata": {},
     "output_type": "execute_result"
    }
   ],
   "source": [
    "print(input_DST_007.shape)\n",
    "input_DST_007"
   ]
  },
  {
   "cell_type": "code",
   "execution_count": 226,
   "metadata": {},
   "outputs": [
    {
     "name": "stdout",
     "output_type": "stream",
     "text": [
      "(7055, 3)\n"
     ]
    },
    {
     "data": {
      "text/plain": [
       "array([[-2.70769058e-04,  3.55244279e+00,  2.01151886e+01],\n",
       "       [-4.51222935e-04,  3.55213499e+00,  2.00844650e+01],\n",
       "       [-4.51222935e-04,  3.55213499e+00,  2.00537434e+01],\n",
       "       ...,\n",
       "       [-4.58082289e-01,  2.16408896e+00,  1.98769798e+01],\n",
       "       [-8.25125515e-01,  2.03082442e+00,  1.98769798e+01],\n",
       "       [-8.24945033e-01,  1.99881625e+00,  1.99076920e+01]])"
      ]
     },
     "execution_count": 226,
     "metadata": {},
     "output_type": "execute_result"
    }
   ],
   "source": [
    "print(input_US06_008.shape)\n",
    "input_US06_008"
   ]
  },
  {
   "cell_type": "markdown",
   "metadata": {},
   "source": [
    "# 3. Split train and test dataset"
   ]
  },
  {
   "cell_type": "code",
   "execution_count": 227,
   "metadata": {},
   "outputs": [],
   "source": [
    "def create_dataset(input, output, look_back=1):\n",
    "    dataX, dataY = [], []\n",
    "    for i in range(len(input) - look_back + 1):\n",
    "        a = input[i:(i + look_back)]\n",
    "        dataX.append(a)\n",
    "        dataY.append(output[i + look_back -1])\n",
    "    dataY = np.reshape(dataY, (len(dataY), 1, 1))\n",
    "    print(dataY.shape)\n",
    "    return np.array(dataX), np.array(dataY)"
   ]
  },
  {
   "cell_type": "code",
   "execution_count": 228,
   "metadata": {},
   "outputs": [
    {
     "name": "stdout",
     "output_type": "stream",
     "text": [
      "(7274, 1, 1)\n"
     ]
    },
    {
     "name": "stdout",
     "output_type": "stream",
     "text": [
      "(7411, 1, 1)\n",
      "(6869, 1, 1)\n",
      "(7026, 1, 1)\n",
      "(7269, 1, 1)\n",
      "(7516, 1, 1)\n",
      "(7274, 30, 3)\n",
      "(7274, 1, 1)\n"
     ]
    }
   ],
   "source": [
    "# look_back 변수 설정(자연수. 보통 20 설정.)\n",
    "look_back = 30\n",
    "\n",
    "dstX_7, dstY_7 = create_dataset(input_DST_007, output_DST_007, look_back)\n",
    "dstX_8, dstY_8 = create_dataset(input_DST_008, output_DST_008, look_back)\n",
    "us06X_7, us06Y_7 = create_dataset(input_US06_007, output_US06_007, look_back)\n",
    "us06X_8, us06Y_8 = create_dataset(input_US06_008, output_US06_008, look_back)\n",
    "fudsX_7, fudsY_7 = create_dataset(input_FUDS_007, output_FUDS_007, look_back)\n",
    "fudsX_8, fudsY_8 = create_dataset(input_FUDS_008, output_FUDS_008, look_back)\n",
    "\n",
    "print(dstX_7.shape)\n",
    "print(dstY_7.shape)"
   ]
  },
  {
   "cell_type": "markdown",
   "metadata": {},
   "source": [
    "# 4. Training with Linear Regression"
   ]
  },
  {
   "cell_type": "code",
   "execution_count": 229,
   "metadata": {},
   "outputs": [
    {
     "name": "stderr",
     "output_type": "stream",
     "text": [
      "c:\\Users\\ays99\\Documents\\2024 대학\\1학기\\캡디\\project\\SoC_capstone\\venv\\Lib\\site-packages\\keras\\src\\layers\\reshaping\\flatten.py:37: UserWarning: Do not pass an `input_shape`/`input_dim` argument to a layer. When using Sequential models, prefer using an `Input(shape)` object as the first layer in the model instead.\n",
      "  super().__init__(**kwargs)\n",
      "c:\\Users\\ays99\\Documents\\2024 대학\\1학기\\캡디\\project\\SoC_capstone\\venv\\Lib\\site-packages\\keras\\src\\layers\\core\\dense.py:87: UserWarning: Do not pass an `input_shape`/`input_dim` argument to a layer. When using Sequential models, prefer using an `Input(shape)` object as the first layer in the model instead.\n",
      "  super().__init__(activity_regularizer=activity_regularizer, **kwargs)\n"
     ]
    }
   ],
   "source": [
    "model = Sequential()\n",
    "model.add(Flatten(input_shape=(look_back, 3)))\n",
    "model.add(Dense(64, input_dim = 5))\n",
    "model.add(Dense(1))\n",
    "\n",
    "# optimizer는 알고리즘 종류.\n",
    "# SGD, RMSprop, Adagrad, Adadelta, Adam이 있음(Adam이 가장많이 사용 됨)\n",
    "# loss는 정답과 예측값을 비교하는 모델. 회귀에서 사용.\n",
    "# 모델의 성능을 올리기 위해 loss 임의 변형 가능. 근데 우리는 mse 사용.\n",
    "# metrics는 평가 지표. 모델의 성능을 평가할 때 사용\n",
    "model.compile(optimizer = 'adam', loss = 'mse', metrics = ['mse', 'mae'])"
   ]
  },
  {
   "cell_type": "code",
   "execution_count": 230,
   "metadata": {},
   "outputs": [
    {
     "name": "stdout",
     "output_type": "stream",
     "text": [
      "Epoch 1/16\n",
      "114/114 - 2s - 17ms/step - loss: 570.2114 - mae: 20.4571 - mse: 570.2114 - val_loss: 504.7960 - val_mae: 19.4233 - val_mse: 504.7960\n",
      "Epoch 2/16\n",
      "114/114 - 0s - 3ms/step - loss: 522.8176 - mae: 19.8192 - mse: 522.8176 - val_loss: 483.4316 - val_mae: 19.0713 - val_mse: 483.4316\n",
      "Epoch 3/16\n",
      "114/114 - 0s - 3ms/step - loss: 501.0544 - mae: 19.4322 - mse: 501.0544 - val_loss: 469.6425 - val_mae: 18.7701 - val_mse: 469.6425\n",
      "Epoch 4/16\n",
      "114/114 - 0s - 3ms/step - loss: 476.1473 - mae: 19.0268 - mse: 476.1473 - val_loss: 477.4639 - val_mae: 18.9599 - val_mse: 477.4639\n",
      "Epoch 5/16\n",
      "114/114 - 0s - 3ms/step - loss: 447.7068 - mae: 18.4890 - mse: 447.7068 - val_loss: 450.9517 - val_mae: 18.3185 - val_mse: 450.9517\n",
      "Epoch 6/16\n",
      "114/114 - 0s - 3ms/step - loss: 411.4488 - mae: 17.8049 - mse: 411.4488 - val_loss: 400.9704 - val_mae: 17.6082 - val_mse: 400.9704\n",
      "Epoch 7/16\n",
      "114/114 - 0s - 3ms/step - loss: 368.8421 - mae: 16.8889 - mse: 368.8421 - val_loss: 376.9816 - val_mae: 17.1252 - val_mse: 376.9816\n",
      "Epoch 8/16\n",
      "114/114 - 1s - 6ms/step - loss: 333.7595 - mae: 16.0942 - mse: 333.7595 - val_loss: 353.8664 - val_mae: 16.2747 - val_mse: 353.8664\n",
      "Epoch 9/16\n",
      "114/114 - 0s - 3ms/step - loss: 300.6967 - mae: 15.3162 - mse: 300.6967 - val_loss: 321.4483 - val_mae: 15.5810 - val_mse: 321.4483\n",
      "Epoch 10/16\n",
      "114/114 - 0s - 3ms/step - loss: 278.4415 - mae: 14.8972 - mse: 278.4415 - val_loss: 291.7558 - val_mae: 14.9926 - val_mse: 291.7558\n",
      "Epoch 11/16\n",
      "114/114 - 0s - 3ms/step - loss: 259.3801 - mae: 14.4493 - mse: 259.3801 - val_loss: 281.3109 - val_mae: 14.8045 - val_mse: 281.3109\n",
      "Epoch 12/16\n",
      "114/114 - 0s - 4ms/step - loss: 248.0013 - mae: 14.1011 - mse: 248.0013 - val_loss: 274.8844 - val_mae: 14.6047 - val_mse: 274.8844\n",
      "Epoch 13/16\n",
      "114/114 - 0s - 4ms/step - loss: 242.0065 - mae: 13.8790 - mse: 242.0065 - val_loss: 257.1184 - val_mae: 14.1771 - val_mse: 257.1184\n",
      "Epoch 14/16\n",
      "114/114 - 0s - 3ms/step - loss: 236.2012 - mae: 13.6355 - mse: 236.2012 - val_loss: 257.9429 - val_mae: 14.2010 - val_mse: 257.9429\n",
      "Epoch 15/16\n",
      "114/114 - 0s - 3ms/step - loss: 234.4969 - mae: 13.5562 - mse: 234.4969 - val_loss: 275.5532 - val_mae: 14.4105 - val_mse: 275.5532\n",
      "Epoch 16/16\n",
      "114/114 - 0s - 3ms/step - loss: 244.0971 - mae: 13.6122 - mse: 244.0971 - val_loss: 261.4362 - val_mae: 14.2043 - val_mse: 261.4362\n",
      "Epoch 1/16\n",
      "108/108 - 0s - 4ms/step - loss: 218.4312 - mae: 13.3503 - mse: 218.4312 - val_loss: 257.6721 - val_mae: 13.9930 - val_mse: 257.6721\n",
      "Epoch 2/16\n",
      "108/108 - 0s - 3ms/step - loss: 215.0861 - mae: 13.0108 - mse: 215.0861 - val_loss: 357.0774 - val_mae: 15.4265 - val_mse: 357.0774\n",
      "Epoch 3/16\n",
      "108/108 - 0s - 3ms/step - loss: 202.0854 - mae: 12.7485 - mse: 202.0854 - val_loss: 226.8989 - val_mae: 13.1881 - val_mse: 226.8989\n",
      "Epoch 4/16\n",
      "108/108 - 0s - 3ms/step - loss: 195.9745 - mae: 12.4278 - mse: 195.9745 - val_loss: 247.7637 - val_mae: 13.4531 - val_mse: 247.7637\n",
      "Epoch 5/16\n",
      "108/108 - 0s - 3ms/step - loss: 191.6027 - mae: 12.2547 - mse: 191.6027 - val_loss: 221.1666 - val_mae: 12.9607 - val_mse: 221.1666\n",
      "Epoch 6/16\n",
      "108/108 - 0s - 3ms/step - loss: 194.8299 - mae: 12.1399 - mse: 194.8299 - val_loss: 223.8081 - val_mae: 12.8375 - val_mse: 223.8081\n",
      "Epoch 7/16\n",
      "108/108 - 0s - 3ms/step - loss: 186.7171 - mae: 11.9763 - mse: 186.7171 - val_loss: 228.9082 - val_mae: 12.8401 - val_mse: 228.9082\n",
      "Epoch 8/16\n",
      "108/108 - 0s - 4ms/step - loss: 187.1580 - mae: 11.8921 - mse: 187.1580 - val_loss: 215.8221 - val_mae: 12.6242 - val_mse: 215.8221\n",
      "Epoch 9/16\n",
      "108/108 - 0s - 4ms/step - loss: 192.4615 - mae: 11.8308 - mse: 192.4615 - val_loss: 243.6108 - val_mae: 13.0957 - val_mse: 243.6108\n",
      "Epoch 10/16\n",
      "108/108 - 0s - 4ms/step - loss: 187.6086 - mae: 11.7741 - mse: 187.6086 - val_loss: 251.0038 - val_mae: 13.2378 - val_mse: 251.0038\n",
      "Epoch 11/16\n",
      "108/108 - 0s - 4ms/step - loss: 185.9665 - mae: 11.7671 - mse: 185.9665 - val_loss: 215.6032 - val_mae: 12.5393 - val_mse: 215.6032\n",
      "Epoch 12/16\n",
      "108/108 - 0s - 3ms/step - loss: 185.5601 - mae: 11.6699 - mse: 185.5601 - val_loss: 230.0089 - val_mae: 12.7392 - val_mse: 230.0089\n",
      "Epoch 13/16\n",
      "108/108 - 1s - 6ms/step - loss: 185.9721 - mae: 11.7161 - mse: 185.9721 - val_loss: 251.4804 - val_mae: 13.2053 - val_mse: 251.4804\n",
      "Epoch 14/16\n",
      "108/108 - 0s - 3ms/step - loss: 192.0313 - mae: 11.8145 - mse: 192.0313 - val_loss: 217.3723 - val_mae: 12.5542 - val_mse: 217.3723\n",
      "Epoch 15/16\n",
      "108/108 - 0s - 3ms/step - loss: 189.0744 - mae: 11.7091 - mse: 189.0744 - val_loss: 226.6738 - val_mae: 12.7318 - val_mse: 226.6738\n",
      "Epoch 16/16\n",
      "108/108 - 0s - 4ms/step - loss: 187.9763 - mae: 11.7308 - mse: 187.9763 - val_loss: 220.3511 - val_mae: 12.5446 - val_mse: 220.3511\n",
      "Epoch 1/16\n",
      "116/116 - 1s - 4ms/step - loss: 182.5733 - mae: 11.0908 - mse: 182.5733 - val_loss: 162.1443 - val_mae: 8.7739 - val_mse: 162.1443\n",
      "Epoch 2/16\n",
      "116/116 - 0s - 4ms/step - loss: 178.5000 - mae: 11.2389 - mse: 178.5000 - val_loss: 166.1339 - val_mae: 9.0483 - val_mse: 166.1339\n",
      "Epoch 3/16\n",
      "116/116 - 0s - 3ms/step - loss: 178.1373 - mae: 11.3463 - mse: 178.1373 - val_loss: 193.7052 - val_mae: 9.8933 - val_mse: 193.7052\n",
      "Epoch 4/16\n",
      "116/116 - 0s - 3ms/step - loss: 175.5489 - mae: 11.3492 - mse: 175.5489 - val_loss: 179.5880 - val_mae: 9.5413 - val_mse: 179.5880\n",
      "Epoch 5/16\n",
      "116/116 - 0s - 4ms/step - loss: 177.5094 - mae: 11.4131 - mse: 177.5094 - val_loss: 154.2565 - val_mae: 9.4368 - val_mse: 154.2565\n",
      "Epoch 6/16\n",
      "116/116 - 0s - 4ms/step - loss: 184.3701 - mae: 11.5557 - mse: 184.3701 - val_loss: 171.4262 - val_mae: 9.4482 - val_mse: 171.4262\n",
      "Epoch 7/16\n",
      "116/116 - 0s - 3ms/step - loss: 177.1411 - mae: 11.4486 - mse: 177.1411 - val_loss: 165.4307 - val_mae: 9.4102 - val_mse: 165.4307\n",
      "Epoch 8/16\n",
      "116/116 - 0s - 4ms/step - loss: 178.9892 - mae: 11.4628 - mse: 178.9892 - val_loss: 169.8392 - val_mae: 9.4257 - val_mse: 169.8392\n",
      "Epoch 9/16\n",
      "116/116 - 1s - 5ms/step - loss: 176.8810 - mae: 11.4828 - mse: 176.8810 - val_loss: 164.8429 - val_mae: 9.4099 - val_mse: 164.8429\n",
      "Epoch 10/16\n",
      "116/116 - 0s - 3ms/step - loss: 174.7035 - mae: 11.4001 - mse: 174.7035 - val_loss: 155.9795 - val_mae: 9.4184 - val_mse: 155.9795\n",
      "Epoch 11/16\n",
      "116/116 - 0s - 3ms/step - loss: 178.3824 - mae: 11.4709 - mse: 178.3824 - val_loss: 209.9881 - val_mae: 10.5618 - val_mse: 209.9881\n",
      "Epoch 12/16\n",
      "116/116 - 0s - 3ms/step - loss: 175.1834 - mae: 11.4117 - mse: 175.1834 - val_loss: 197.4723 - val_mae: 10.1611 - val_mse: 197.4723\n",
      "Epoch 13/16\n",
      "116/116 - 0s - 4ms/step - loss: 178.9144 - mae: 11.4872 - mse: 178.9144 - val_loss: 170.3213 - val_mae: 9.5047 - val_mse: 170.3213\n",
      "Epoch 14/16\n",
      "116/116 - 1s - 4ms/step - loss: 176.4171 - mae: 11.4279 - mse: 176.4171 - val_loss: 156.1640 - val_mae: 9.3992 - val_mse: 156.1640\n",
      "Epoch 15/16\n",
      "116/116 - 0s - 3ms/step - loss: 176.3802 - mae: 11.4048 - mse: 176.3802 - val_loss: 154.3787 - val_mae: 9.5739 - val_mse: 154.3787\n",
      "Epoch 16/16\n",
      "116/116 - 0s - 4ms/step - loss: 177.6427 - mae: 11.4713 - mse: 177.6427 - val_loss: 160.8147 - val_mae: 9.3862 - val_mse: 160.8147\n",
      "Epoch 1/16\n",
      "110/110 - 0s - 4ms/step - loss: 191.4180 - mae: 11.1708 - mse: 191.4180 - val_loss: 159.0893 - val_mae: 9.8999 - val_mse: 159.0893\n",
      "Epoch 2/16\n",
      "110/110 - 0s - 3ms/step - loss: 193.0015 - mae: 11.1501 - mse: 193.0015 - val_loss: 165.1120 - val_mae: 9.1551 - val_mse: 165.1120\n",
      "Epoch 3/16\n",
      "110/110 - 1s - 10ms/step - loss: 189.0047 - mae: 10.9931 - mse: 189.0047 - val_loss: 155.9568 - val_mae: 9.5350 - val_mse: 155.9568\n",
      "Epoch 4/16\n",
      "110/110 - 1s - 10ms/step - loss: 194.0908 - mae: 11.0619 - mse: 194.0908 - val_loss: 170.0206 - val_mae: 10.5214 - val_mse: 170.0206\n",
      "Epoch 5/16\n",
      "110/110 - 0s - 4ms/step - loss: 190.5305 - mae: 10.9580 - mse: 190.5305 - val_loss: 170.6581 - val_mae: 9.1406 - val_mse: 170.6581\n",
      "Epoch 6/16\n",
      "110/110 - 0s - 3ms/step - loss: 198.4407 - mae: 11.1572 - mse: 198.4407 - val_loss: 158.1040 - val_mae: 9.0603 - val_mse: 158.1040\n",
      "Epoch 7/16\n",
      "110/110 - 0s - 3ms/step - loss: 190.3669 - mae: 10.9685 - mse: 190.3669 - val_loss: 168.4944 - val_mae: 9.1015 - val_mse: 168.4944\n",
      "Epoch 8/16\n",
      "110/110 - 1s - 6ms/step - loss: 192.4010 - mae: 10.9970 - mse: 192.4010 - val_loss: 164.5889 - val_mae: 10.1893 - val_mse: 164.5889\n",
      "Epoch 9/16\n",
      "110/110 - 0s - 3ms/step - loss: 190.6118 - mae: 10.9290 - mse: 190.6118 - val_loss: 167.0081 - val_mae: 9.0698 - val_mse: 167.0081\n",
      "Epoch 10/16\n",
      "110/110 - 0s - 3ms/step - loss: 196.6396 - mae: 11.1198 - mse: 196.6396 - val_loss: 169.4272 - val_mae: 9.1153 - val_mse: 169.4272\n",
      "Epoch 11/16\n",
      "110/110 - 0s - 3ms/step - loss: 187.2657 - mae: 10.8546 - mse: 187.2657 - val_loss: 179.5330 - val_mae: 9.3409 - val_mse: 179.5330\n",
      "Epoch 12/16\n",
      "110/110 - 0s - 3ms/step - loss: 192.1089 - mae: 10.9418 - mse: 192.1089 - val_loss: 159.4928 - val_mae: 9.0275 - val_mse: 159.4928\n",
      "Epoch 13/16\n",
      "110/110 - 0s - 3ms/step - loss: 192.2001 - mae: 10.9890 - mse: 192.2001 - val_loss: 202.3409 - val_mae: 10.0665 - val_mse: 202.3409\n",
      "Epoch 14/16\n",
      "110/110 - 1s - 6ms/step - loss: 187.5632 - mae: 10.8084 - mse: 187.5632 - val_loss: 167.4471 - val_mae: 9.0108 - val_mse: 167.4471\n",
      "Epoch 15/16\n",
      "110/110 - 0s - 3ms/step - loss: 189.1114 - mae: 10.8722 - mse: 189.1114 - val_loss: 243.1553 - val_mae: 11.4598 - val_mse: 243.1553\n",
      "Epoch 16/16\n",
      "110/110 - 0s - 3ms/step - loss: 189.9314 - mae: 10.8914 - mse: 189.9314 - val_loss: 183.6666 - val_mae: 9.4375 - val_mse: 183.6666\n"
     ]
    }
   ],
   "source": [
    "# 모델 학습\n",
    "# epochs는 전체 데이터를 학습에 사용하는 수 / underfitting overfitting의 원인\n",
    "# epochs = 40이라면 40바퀴 돌린다고 생각하면 됨\n",
    "# batch_size는 잘라서 주는 수\n",
    "# 데이터가 2000개, epochs=20, batch_size=500이라면\n",
    "# 1 epoch는 데이터 사이즈가 500인 batch가 들어간 4번의 iteration으로 들어감\n",
    "# 전체 데이터 셋에 대해서는 총 20번의 학습, iteration 기준으로는 총 80번의 학습\n",
    "# verbose는 그냥 돌아가는 과정을 출력하는것. 2는 epoch마다 한 줄 씩 출력.\n",
    "# 스크롤 귀찮으면 안해도 될듯\n",
    "\n",
    "epochs = 16\n",
    "batch_size = 64\n",
    "verbose = 2\n",
    "\n",
    "history_dst_7 = model.fit(dstX_7, dstY_7, epochs=epochs, batch_size=batch_size, validation_data=(fudsX_7, fudsY_7), verbose=verbose)\n",
    "history_us06_7 = model.fit(us06X_7, us06Y_7, epochs=epochs, batch_size=batch_size, validation_data=(fudsX_7, fudsY_7), verbose=verbose)\n",
    "history_dst_8 = model.fit(dstX_8, dstY_8, epochs=epochs, batch_size=batch_size, validation_data=(fudsX_8, fudsY_8), verbose=verbose)\n",
    "history_us06_8 = model.fit(us06X_8, us06Y_8, epochs=epochs, batch_size=batch_size, validation_data=(fudsX_8, fudsY_8), verbose=verbose)"
   ]
  },
  {
   "cell_type": "code",
   "execution_count": 231,
   "metadata": {},
   "outputs": [],
   "source": [
    "# save model architecture\n",
    "model_dir = os.path.join(current_dir, 'model', temp)\n",
    "model_json = model.to_json()\n",
    "open(f'{model_dir}/{temp}_model.json', 'w').write(model_json)\n",
    "\n",
    "# save model's learned weights\n",
    "model.save_weights(f'{model_dir}/{temp}.weights.h5', overwrite=True)"
   ]
  },
  {
   "cell_type": "markdown",
   "metadata": {},
   "source": [
    "# 5. Result"
   ]
  },
  {
   "cell_type": "code",
   "execution_count": 232,
   "metadata": {},
   "outputs": [
    {
     "name": "stdout",
     "output_type": "stream",
     "text": [
      "Loaded model from disk\n"
     ]
    }
   ],
   "source": [
    "# Load trained model\n",
    "json_file = open(f'{model_dir}/{temp}_model.json', \"r\")\n",
    "loaded_model_json = json_file.read() \n",
    "json_file.close()\n",
    "loaded_model = model_from_json(loaded_model_json)\n",
    "\n",
    "# model weight load \n",
    "loaded_model.load_weights(f'{model_dir}/{temp}.weights.h5')\n",
    "print(\"Loaded model from disk\")"
   ]
  },
  {
   "cell_type": "code",
   "execution_count": 233,
   "metadata": {},
   "outputs": [
    {
     "data": {
      "image/png": "[encoded data removed]",
      "text/plain": [
       "<Figure size 640x480 with 1 Axes>"
      ]
     },
     "metadata": {},
     "output_type": "display_data"
    }
   ],
   "source": [
    "plt.plot(history_dst_7.history['loss'], label='train')\n",
    "\n",
    "plt.legend() \n",
    "plt.show()"
   ]
  },
  {
   "cell_type": "code",
   "execution_count": 234,
   "metadata": {},
   "outputs": [
    {
     "name": "stdout",
     "output_type": "stream",
     "text": [
      "\u001b[1m228/228\u001b[0m \u001b[32m━━━━━━━━━━━━━━━━━━━━\u001b[0m\u001b[37m\u001b[0m \u001b[1m0s\u001b[0m 1ms/step\n",
      "\u001b[1m235/235\u001b[0m \u001b[32m━━━━━━━━━━━━━━━━━━━━\u001b[0m\u001b[37m\u001b[0m \u001b[1m1s\u001b[0m 3ms/step\n"
     ]
    },
    {
     "data": {
      "image/png": "[encoded data removed]",
      "text/plain": [
       "<Figure size 1000x500 with 2 Axes>"
      ]
     },
     "metadata": {},
     "output_type": "display_data"
    }
   ],
   "source": [
    "# SoC 예측 정답 비교 Plot\n",
    "fudsY_7_hat = model.predict(fudsX_7)\n",
    "fudsY_8_hat = model.predict(fudsX_8)\n",
    "fudsY_7 = np.reshape(fudsY_7, (fudsY_7.shape[0], 1))\n",
    "fudsY_8 = np.reshape(fudsY_8, (fudsY_8.shape[0], 1))\n",
    "\n",
    "plt.figure(figsize=(10,5))\n",
    "plt.subplot(1,2,1)\n",
    "plt.plot(fudsY_7_hat, label='Prediction')\n",
    "plt.plot(fudsY_7, label='Real data')\n",
    "plt.title(\"007_SoC\")\n",
    "\n",
    "plt.subplot(1,2,2)\n",
    "plt.plot(fudsY_8_hat, label='Prediction')\n",
    "plt.plot(fudsY_8, label='Real data')\n",
    "plt.title(\"008_SoC\")\n",
    "plt.legend()\n",
    "plt.show()"
   ]
  },
  {
   "cell_type": "code",
   "execution_count": 235,
   "metadata": {},
   "outputs": [
    {
     "name": "stdout",
     "output_type": "stream",
     "text": [
      "Test 007 RMSE: 15.339\n",
      "Test 007 MAE: 13.163\n",
      "Test 008 RMSE: 13.552\n",
      "Test 008 MAE: 9.437\n"
     ]
    }
   ],
   "source": [
    "rmse = math.sqrt(mean_squared_error(fudsY_7, fudsY_7_hat))\n",
    "mae = mean_absolute_error(fudsY_7, fudsY_7_hat)\n",
    "print('Test 007 RMSE: %.3f' % rmse)\n",
    "print('Test 007 MAE: %.3f' % mae)\n",
    "\n",
    "rmse = math.sqrt(mean_squared_error(fudsY_8, fudsY_8_hat))\n",
    "mae = mean_absolute_error(fudsY_8, fudsY_8_hat)\n",
    "print('Test 008 RMSE: %.3f' % rmse)\n",
    "print('Test 008 MAE: %.3f' % mae)"
   ]
  }
 ],
 "metadata": {
  "kernelspec": {
   "display_name": "venv",
   "language": "python",
   "name": "python3"
  },
  "language_info": {
   "codemirror_mode": {
    "name": "ipython",
    "version": 3
   },
   "file_extension": ".py",
   "mimetype": "text/x-python",
   "name": "python",
   "nbconvert_exporter": "python",
   "pygments_lexer": "ipython3",
   "version": "3.12.3"
  }
 },
 "nbformat": 4,
 "nbformat_minor": 2
}
