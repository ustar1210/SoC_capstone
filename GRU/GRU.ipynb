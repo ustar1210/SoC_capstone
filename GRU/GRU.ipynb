{
 "cells": [
  {
   "cell_type": "markdown",
   "metadata": {},
   "source": [
    "# 0. Import Packages"
   ]
  },
  {
   "cell_type": "code",
   "execution_count": null,
   "metadata": {},
   "outputs": [],
   "source": [
    "import numpy as np\n",
    "import pandas as pd\n",
    "import matplotlib.pyplot as plt\n",
    "import tensorflow as tf\n",
    "import keras\n",
    "import os\n",
    "import glob\n",
    "import seaborn as sns\n",
    "from mpl_toolkits.mplot3d import Axes3D\n",
    "import math\n",
    "\n",
    "import tensorflow as tf\n",
    "from sklearn.preprocessing import MinMaxScaler\n",
    "from sklearn.metrics import mean_squared_error, mean_absolute_error\n",
    "from keras_preprocessing.sequence import TimeseriesGenerator\n",
    "from keras import Sequential\n",
    "from keras import layers\n",
    "from keras.src.layers.core.dense import Dense\n",
    "from keras.src.layers.reshaping.flatten import Flatten\n",
    "from keras.src.layers.rnn.lstm import LSTM\n",
    "from keras.src.layers.rnn.rnn import RNN\n",
    "from keras.src.optimizers.rmsprop import RMSprop\n",
    "from keras.src.callbacks.early_stopping import EarlyStopping\n",
    "from keras.src.callbacks.model_checkpoint import ModelCheckpoint\n",
    "from keras.src.models.model import model_from_json\n",
    "from keras import optimizers"
   ]
  },
  {
   "cell_type": "markdown",
   "metadata": {},
   "source": [
    "# 1. Load data"
   ]
  },
  {
   "cell_type": "code",
   "execution_count": null,
   "metadata": {},
   "outputs": [],
   "source": [
    "# 온도 선택 [N10, 0, 10, 20, 25, 30, 40, 50], temp 변수에 설정\n",
    "\n",
    "temp = '40'\n",
    "mode = ['DST', 'FUDS' ,'US06']\n",
    "current_dir = os.getcwd()\n",
    "parent_dir = os.path.abspath(os.path.join(current_dir, os.pardir))\n",
    "\n",
    "for m in mode:\n",
    "    data_dir = os.path.join(parent_dir, f'DB Preprocessing/refined_data/{temp}/{m}')\n",
    "    file_names = os.listdir(data_dir)\n",
    "    for file_name in file_names:\n",
    "        csv_dir = os.path.join(data_dir, file_name)\n",
    "        if '007' in file_name:\n",
    "            num = '007'\n",
    "        else: \n",
    "            num = '008'\n",
    "        globals()['csv_{}'.format(f'{m}_{num}')] = pd.DataFrame(pd.read_csv(csv_dir))\n",
    "        print(f'csv_{m}_{num} 생성 완료')"
   ]
  },
  {
   "cell_type": "code",
   "execution_count": null,
   "metadata": {},
   "outputs": [],
   "source": [
    "csv_DST_007"
   ]
  },
  {
   "cell_type": "markdown",
   "metadata": {},
   "source": [
    "# 2. V, I, T / SoC 분리 "
   ]
  },
  {
   "cell_type": "code",
   "execution_count": null,
   "metadata": {},
   "outputs": [],
   "source": [
    "num = ['007','008']\n",
    "\n",
    "def df2numpy(df):\n",
    "    np = df.values\n",
    "    return np\n",
    "\n",
    "for m in mode:\n",
    "    for n in num:\n",
    "        var_name = f'csv_{m}_{n}'\n",
    "        csv = globals()[var_name]\n",
    "        globals()[f'input_{m}_{n}'] = df2numpy(csv[['Current(A)', 'Voltage(V)', 'Temperature (C)_1']])\n",
    "        print(f'input_{m}_{n} 생성 완료')\n",
    "        globals()[f'output_{m}_{n}'] = df2numpy(csv[['SoC']])\n",
    "        print(f'output_{m}_{n} 생성 완료')"
   ]
  },
  {
   "cell_type": "code",
   "execution_count": null,
   "metadata": {},
   "outputs": [],
   "source": [
    "print(input_DST_007.shape)\n",
    "input_DST_007"
   ]
  },
  {
   "cell_type": "code",
   "execution_count": null,
   "metadata": {},
   "outputs": [],
   "source": [
    "print(input_US06_008.shape)\n",
    "input_US06_008"
   ]
  },
  {
   "cell_type": "markdown",
   "metadata": {},
   "source": [
    "# 3. Split train and test dataset"
   ]
  },
  {
   "cell_type": "code",
   "execution_count": null,
   "metadata": {},
   "outputs": [],
   "source": [
    "def create_dataset(input, output, look_back=1):\n",
    "    dataX, dataY = [], []\n",
    "    for i in range(len(input) - look_back + 1):\n",
    "        a = input[i:(i + look_back)]\n",
    "        dataX.append(a)\n",
    "        dataY.append(output[i + look_back -1])\n",
    "    dataY = np.reshape(dataY, (len(dataY), 1, 1))\n",
    "    print(dataY.shape)\n",
    "    return np.array(dataX), np.array(dataY)\n",
    "\n",
    "a = [0,1,2,3,4,5,6,7,8,9]\n",
    "b = [10,11,12,13,14,15,16,17,18,19]\n",
    "x, y = create_dataset(a, b, 3)\n",
    "print(x)\n",
    "print(y)"
   ]
  },
  {
   "cell_type": "code",
   "execution_count": null,
   "metadata": {},
   "outputs": [],
   "source": [
    "# look_back 변수 설정(자연수. 보통 20 설정.)\n",
    "look_back = 20\n",
    "\n",
    "dstX_7, dstY_7 = create_dataset(input_DST_007, output_DST_007, look_back)\n",
    "dstX_8, dstY_8 = create_dataset(input_DST_008, output_DST_008, look_back)\n",
    "us06X_7, us06Y_7 = create_dataset(input_US06_007, output_US06_007, look_back)\n",
    "us06X_8, us06Y_8 = create_dataset(input_US06_008, output_US06_008, look_back)\n",
    "fudsX_7, fudsY_7 = create_dataset(input_FUDS_007, output_FUDS_007, look_back)\n",
    "fudsX_8, fudsY_8 = create_dataset(input_FUDS_008, output_FUDS_008, look_back)\n",
    "\n",
    "print(dstX_7.shape)\n",
    "print(dstY_7.shape)"
   ]
  },
  {
   "cell_type": "markdown",
   "metadata": {},
   "source": [
    "# 4. Training with Linear Regression"
   ]
  },
  {
   "cell_type": "code",
   "execution_count": null,
   "metadata": {},
   "outputs": [],
   "source": [
    "# 이거랑 이 아래 코드 박스만 수정하셔서 GRU 구현하시면 됩니다.\n",
    "model = Sequential()\n",
    "model.add(Flatten(input_shape=(20, 3)))\n",
    "model.add(Dense(64, input_dim = 5))\n",
    "model.add(Dense(1))\n",
    "model.compile(optimizer = 'adam', loss = 'mean_squared_error', metrics = ['mse', 'mae'])"
   ]
  },
  {
   "cell_type": "code",
   "execution_count": null,
   "metadata": {},
   "outputs": [],
   "source": [
    "history_dst_7 = model.fit(dstX_7, dstY_7, epochs=100, batch_size=10, verbose=0)\n",
    "history_us06_7 = model.fit(us06X_7, us06Y_7, epochs=100, batch_size=10, verbose=0)\n",
    "history_dst_8 = model.fit(dstX_8, dstY_8, epochs=100, batch_size=10, verbose=0)\n",
    "history_us06_8 = model.fit(us06X_8, us06Y_8, epochs=100, batch_size=10, verbose=0)"
   ]
  },
  {
   "cell_type": "code",
   "execution_count": null,
   "metadata": {},
   "outputs": [],
   "source": [
    "# save model architecture\n",
    "model_dir = os.path.join(current_dir, 'model', temp)\n",
    "model_json = model.to_json()\n",
    "open(f'{model_dir}/{temp}_model.json', 'w').write(model_json)\n",
    "\n",
    "# save model's learned weights\n",
    "model.save_weights(f'{model_dir}/{temp}.weights.h5', overwrite=True)"
   ]
  },
  {
   "cell_type": "code",
   "execution_count": null,
   "metadata": {},
   "outputs": [],
   "source": [
    "# Load trained model\n",
    "json_file = open(f'{model_dir}/{temp}_model.json', \"r\")\n",
    "loaded_model_json = json_file.read() \n",
    "json_file.close()\n",
    "loaded_model = model_from_json(loaded_model_json)\n",
    "\n",
    "# model weight load \n",
    "loaded_model.load_weights(f'{model_dir}/{temp}.weights.h5')\n",
    "print(\"Loaded model from disk\")"
   ]
  },
  {
   "cell_type": "code",
   "execution_count": null,
   "metadata": {},
   "outputs": [],
   "source": [
    "plt.plot(history_dst_7.history['loss'], label='train')\n",
    "\n",
    "plt.legend() \n",
    "plt.show()"
   ]
  },
  {
   "cell_type": "code",
   "execution_count": null,
   "metadata": {},
   "outputs": [],
   "source": [
    "# 007 배터리 예측\n",
    "fudsY_7_hat = model.predict(fudsX_7)\n",
    "fudsY_7 = np.reshape(fudsY_7, (fudsY_7.shape[0], 1))\n",
    "plt.plot(fudsY_7_hat, label='Prediction')\n",
    "plt.plot(fudsY_7, label='Real data')\n",
    "plt.legend()\n",
    "plt.show()"
   ]
  },
  {
   "cell_type": "code",
   "execution_count": null,
   "metadata": {},
   "outputs": [],
   "source": [
    "rmse = math.sqrt(mean_squared_error(fudsY_7, fudsY_7_hat))\n",
    "mae = mean_absolute_error(fudsY_7, fudsY_7_hat)\n",
    "print('Test RMSE: %.3f' % rmse)\n",
    "print('Test MAE: %.3f' % mae)"
   ]
  },
  {
   "cell_type": "code",
   "execution_count": null,
   "metadata": {},
   "outputs": [],
   "source": [
    "# 008 배터리 예측\n",
    "fudsY_8_hat = model.predict(fudsX_8)\n",
    "fudsY_8 = np.reshape(fudsY_8, (fudsY_8.shape[0], 1))\n",
    "plt.plot(fudsY_8_hat, label='Prediction')\n",
    "plt.plot(fudsY_8, label='Real data')\n",
    "plt.legend()\n",
    "plt.show()"
   ]
  },
  {
   "cell_type": "code",
   "execution_count": null,
   "metadata": {},
   "outputs": [],
   "source": [
    "rmse = math.sqrt(mean_squared_error(fudsY_8, fudsY_8_hat))\n",
    "mae = mean_absolute_error(fudsY_8, fudsY_8_hat)\n",
    "print('Test RMSE: %.3f' % rmse)\n",
    "print('Test MAE: %.3f' % mae)"
   ]
  }
 ],
 "metadata": {
  "kernelspec": {
   "display_name": "venv",
   "language": "python",
   "name": "python3"
  },
  "language_info": {
   "codemirror_mode": {
    "name": "ipython",
    "version": 3
   },
   "file_extension": ".py",
   "mimetype": "text/x-python",
   "name": "python",
   "nbconvert_exporter": "python",
   "pygments_lexer": "ipython3",
   "version": "3.12.3"
  }
 },
 "nbformat": 4,
 "nbformat_minor": 2
}
