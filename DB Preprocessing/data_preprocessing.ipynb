{
 "cells": [
  {
   "cell_type": "markdown",
   "metadata": {},
   "source": [
    "# 0. Import Packages"
   ]
  },
  {
   "cell_type": "code",
   "execution_count": 79,
   "metadata": {},
   "outputs": [],
   "source": [
    "import numpy as np\n",
    "import pandas as pd\n",
    "import matplotlib.pyplot as plt\n",
    "import tensorflow as tf\n",
    "import keras\n",
    "import os\n",
    "import glob\n",
    "import seaborn as sns"
   ]
  },
  {
   "cell_type": "code",
   "execution_count": 80,
   "metadata": {},
   "outputs": [
    {
     "name": "stdout",
     "output_type": "stream",
     "text": [
      "['-10℃', '0℃', '10℃', '20℃', '25℃', '30℃', '40℃', '50℃']\n"
     ]
    }
   ],
   "source": [
    "dir = \"Dynamic Profile Files\"\n",
    "listdir = os.listdir(dir)\n",
    "\n",
    "print(listdir)"
   ]
  },
  {
   "cell_type": "markdown",
   "metadata": {},
   "source": [
    "# 1. Data Processing"
   ]
  },
  {
   "cell_type": "code",
   "execution_count": 81,
   "metadata": {},
   "outputs": [
    {
     "name": "stdout",
     "output_type": "stream",
     "text": [
      "007 N10\n",
      "008 N10\n",
      "007 0\n",
      "008 0\n",
      "007 10\n",
      "008 10\n",
      "007 20\n",
      "008 20\n",
      "007 25\n",
      "008 25\n",
      "007 30\n",
      "008 30\n",
      "007 40\n",
      "008 40\n",
      "007 50\n",
      "008 50\n"
     ]
    }
   ],
   "source": [
    "# 나머지\n",
    "dir_temp = ['-10℃', '0℃', '10℃', '20℃', '25℃', '30℃', '40℃', '50℃']\n",
    "temp = ['N10', '0', '10', '20', '25', '30', '40', '50']\n",
    "num = ['007', '008']\n",
    "\n",
    "for i in range(len(dir_temp)):\n",
    "    for j in range(len(num)):\n",
    "        sheet_name = 1\n",
    "        vector = np.zeros((1,5))\n",
    "        path = os.path.join(os.getcwd(), 'Dynamic Profile Files/'+ dir_temp[i] + '/', 'A1-' + num[j] + '-DST-US06-FUDS-' + temp[i] + '.xlsx')\n",
    "        excel = pd.read_excel(path, sheet_name=sheet_name)\n",
    "        df = pd.DataFrame(excel)\n",
    "        \n",
    "        vec = df[['Step_Index', 'Current(A)', 'Voltage(V)', 'Temperature (C)_1', 'Discharge_Capacity(Ah)']]\n",
    "\n",
    "        globals()['data_{}'.format(num[j] + '_DST_' + temp[i])] = vec[vec['Step_Index'] == 8]\n",
    "        globals()['data_{}'.format(num[j] + '_US06_' + temp[i])] = vec[vec['Step_Index'] == 16]\n",
    "        globals()['data_{}'.format(num[j] + '_FUDS_' + temp[i])] = vec[vec['Step_Index'] == 24]\n",
    "        \n",
    "        print(num[j], temp[i])"
   ]
  },
  {
   "cell_type": "markdown",
   "metadata": {},
   "source": [
    "# 2. Save Refined_data"
   ]
  },
  {
   "cell_type": "code",
   "execution_count": 83,
   "metadata": {},
   "outputs": [
    {
     "name": "stdout",
     "output_type": "stream",
     "text": [
      "c:\\Users\\ays99\\Documents\\2024 대학\\1학기\\캡디\\project\\SoC_capstone\\DB Preprocessing\\refined_data/N10/DST/data_007_DST_N10.csv\n",
      "c:\\Users\\ays99\\Documents\\2024 대학\\1학기\\캡디\\project\\SoC_capstone\\DB Preprocessing\\refined_data/N10/US06/data_007_US06_N10.csv\n",
      "c:\\Users\\ays99\\Documents\\2024 대학\\1학기\\캡디\\project\\SoC_capstone\\DB Preprocessing\\refined_data/N10/FUDS/data_007_FUDS_N10.csv\n",
      "c:\\Users\\ays99\\Documents\\2024 대학\\1학기\\캡디\\project\\SoC_capstone\\DB Preprocessing\\refined_data/N10/DST/data_008_DST_N10.csv\n",
      "c:\\Users\\ays99\\Documents\\2024 대학\\1학기\\캡디\\project\\SoC_capstone\\DB Preprocessing\\refined_data/N10/US06/data_008_US06_N10.csv\n",
      "c:\\Users\\ays99\\Documents\\2024 대학\\1학기\\캡디\\project\\SoC_capstone\\DB Preprocessing\\refined_data/N10/FUDS/data_008_FUDS_N10.csv\n",
      "c:\\Users\\ays99\\Documents\\2024 대학\\1학기\\캡디\\project\\SoC_capstone\\DB Preprocessing\\refined_data/0/DST/data_007_DST_0.csv\n",
      "c:\\Users\\ays99\\Documents\\2024 대학\\1학기\\캡디\\project\\SoC_capstone\\DB Preprocessing\\refined_data/0/US06/data_007_US06_0.csv\n",
      "c:\\Users\\ays99\\Documents\\2024 대학\\1학기\\캡디\\project\\SoC_capstone\\DB Preprocessing\\refined_data/0/FUDS/data_007_FUDS_0.csv\n",
      "c:\\Users\\ays99\\Documents\\2024 대학\\1학기\\캡디\\project\\SoC_capstone\\DB Preprocessing\\refined_data/0/DST/data_008_DST_0.csv\n",
      "c:\\Users\\ays99\\Documents\\2024 대학\\1학기\\캡디\\project\\SoC_capstone\\DB Preprocessing\\refined_data/0/US06/data_008_US06_0.csv\n",
      "c:\\Users\\ays99\\Documents\\2024 대학\\1학기\\캡디\\project\\SoC_capstone\\DB Preprocessing\\refined_data/0/FUDS/data_008_FUDS_0.csv\n",
      "c:\\Users\\ays99\\Documents\\2024 대학\\1학기\\캡디\\project\\SoC_capstone\\DB Preprocessing\\refined_data/10/DST/data_007_DST_10.csv\n",
      "c:\\Users\\ays99\\Documents\\2024 대학\\1학기\\캡디\\project\\SoC_capstone\\DB Preprocessing\\refined_data/10/US06/data_007_US06_10.csv\n",
      "c:\\Users\\ays99\\Documents\\2024 대학\\1학기\\캡디\\project\\SoC_capstone\\DB Preprocessing\\refined_data/10/FUDS/data_007_FUDS_10.csv\n",
      "c:\\Users\\ays99\\Documents\\2024 대학\\1학기\\캡디\\project\\SoC_capstone\\DB Preprocessing\\refined_data/10/DST/data_008_DST_10.csv\n",
      "c:\\Users\\ays99\\Documents\\2024 대학\\1학기\\캡디\\project\\SoC_capstone\\DB Preprocessing\\refined_data/10/US06/data_008_US06_10.csv\n",
      "c:\\Users\\ays99\\Documents\\2024 대학\\1학기\\캡디\\project\\SoC_capstone\\DB Preprocessing\\refined_data/10/FUDS/data_008_FUDS_10.csv\n",
      "c:\\Users\\ays99\\Documents\\2024 대학\\1학기\\캡디\\project\\SoC_capstone\\DB Preprocessing\\refined_data/20/DST/data_007_DST_20.csv\n",
      "c:\\Users\\ays99\\Documents\\2024 대학\\1학기\\캡디\\project\\SoC_capstone\\DB Preprocessing\\refined_data/20/US06/data_007_US06_20.csv\n",
      "c:\\Users\\ays99\\Documents\\2024 대학\\1학기\\캡디\\project\\SoC_capstone\\DB Preprocessing\\refined_data/20/FUDS/data_007_FUDS_20.csv\n",
      "c:\\Users\\ays99\\Documents\\2024 대학\\1학기\\캡디\\project\\SoC_capstone\\DB Preprocessing\\refined_data/20/DST/data_008_DST_20.csv\n",
      "c:\\Users\\ays99\\Documents\\2024 대학\\1학기\\캡디\\project\\SoC_capstone\\DB Preprocessing\\refined_data/20/US06/data_008_US06_20.csv\n",
      "c:\\Users\\ays99\\Documents\\2024 대학\\1학기\\캡디\\project\\SoC_capstone\\DB Preprocessing\\refined_data/20/FUDS/data_008_FUDS_20.csv\n",
      "c:\\Users\\ays99\\Documents\\2024 대학\\1학기\\캡디\\project\\SoC_capstone\\DB Preprocessing\\refined_data/25/DST/data_007_DST_25.csv\n",
      "c:\\Users\\ays99\\Documents\\2024 대학\\1학기\\캡디\\project\\SoC_capstone\\DB Preprocessing\\refined_data/25/US06/data_007_US06_25.csv\n",
      "c:\\Users\\ays99\\Documents\\2024 대학\\1학기\\캡디\\project\\SoC_capstone\\DB Preprocessing\\refined_data/25/FUDS/data_007_FUDS_25.csv\n",
      "c:\\Users\\ays99\\Documents\\2024 대학\\1학기\\캡디\\project\\SoC_capstone\\DB Preprocessing\\refined_data/25/DST/data_008_DST_25.csv\n",
      "c:\\Users\\ays99\\Documents\\2024 대학\\1학기\\캡디\\project\\SoC_capstone\\DB Preprocessing\\refined_data/25/US06/data_008_US06_25.csv\n",
      "c:\\Users\\ays99\\Documents\\2024 대학\\1학기\\캡디\\project\\SoC_capstone\\DB Preprocessing\\refined_data/25/FUDS/data_008_FUDS_25.csv\n",
      "c:\\Users\\ays99\\Documents\\2024 대학\\1학기\\캡디\\project\\SoC_capstone\\DB Preprocessing\\refined_data/30/DST/data_007_DST_30.csv\n",
      "c:\\Users\\ays99\\Documents\\2024 대학\\1학기\\캡디\\project\\SoC_capstone\\DB Preprocessing\\refined_data/30/US06/data_007_US06_30.csv\n",
      "c:\\Users\\ays99\\Documents\\2024 대학\\1학기\\캡디\\project\\SoC_capstone\\DB Preprocessing\\refined_data/30/FUDS/data_007_FUDS_30.csv\n",
      "c:\\Users\\ays99\\Documents\\2024 대학\\1학기\\캡디\\project\\SoC_capstone\\DB Preprocessing\\refined_data/30/DST/data_008_DST_30.csv\n",
      "c:\\Users\\ays99\\Documents\\2024 대학\\1학기\\캡디\\project\\SoC_capstone\\DB Preprocessing\\refined_data/30/US06/data_008_US06_30.csv\n",
      "c:\\Users\\ays99\\Documents\\2024 대학\\1학기\\캡디\\project\\SoC_capstone\\DB Preprocessing\\refined_data/30/FUDS/data_008_FUDS_30.csv\n",
      "c:\\Users\\ays99\\Documents\\2024 대학\\1학기\\캡디\\project\\SoC_capstone\\DB Preprocessing\\refined_data/40/DST/data_007_DST_40.csv\n",
      "c:\\Users\\ays99\\Documents\\2024 대학\\1학기\\캡디\\project\\SoC_capstone\\DB Preprocessing\\refined_data/40/US06/data_007_US06_40.csv\n",
      "c:\\Users\\ays99\\Documents\\2024 대학\\1학기\\캡디\\project\\SoC_capstone\\DB Preprocessing\\refined_data/40/FUDS/data_007_FUDS_40.csv\n",
      "c:\\Users\\ays99\\Documents\\2024 대학\\1학기\\캡디\\project\\SoC_capstone\\DB Preprocessing\\refined_data/40/DST/data_008_DST_40.csv\n",
      "c:\\Users\\ays99\\Documents\\2024 대학\\1학기\\캡디\\project\\SoC_capstone\\DB Preprocessing\\refined_data/40/US06/data_008_US06_40.csv\n",
      "c:\\Users\\ays99\\Documents\\2024 대학\\1학기\\캡디\\project\\SoC_capstone\\DB Preprocessing\\refined_data/40/FUDS/data_008_FUDS_40.csv\n",
      "c:\\Users\\ays99\\Documents\\2024 대학\\1학기\\캡디\\project\\SoC_capstone\\DB Preprocessing\\refined_data/50/DST/data_007_DST_50.csv\n",
      "c:\\Users\\ays99\\Documents\\2024 대학\\1학기\\캡디\\project\\SoC_capstone\\DB Preprocessing\\refined_data/50/US06/data_007_US06_50.csv\n",
      "c:\\Users\\ays99\\Documents\\2024 대학\\1학기\\캡디\\project\\SoC_capstone\\DB Preprocessing\\refined_data/50/FUDS/data_007_FUDS_50.csv\n",
      "c:\\Users\\ays99\\Documents\\2024 대학\\1학기\\캡디\\project\\SoC_capstone\\DB Preprocessing\\refined_data/50/DST/data_008_DST_50.csv\n",
      "c:\\Users\\ays99\\Documents\\2024 대학\\1학기\\캡디\\project\\SoC_capstone\\DB Preprocessing\\refined_data/50/US06/data_008_US06_50.csv\n",
      "c:\\Users\\ays99\\Documents\\2024 대학\\1학기\\캡디\\project\\SoC_capstone\\DB Preprocessing\\refined_data/50/FUDS/data_008_FUDS_50.csv\n"
     ]
    }
   ],
   "source": [
    "temp = ['N10', '0', '10', '20', '25', '30', '40', '50']\n",
    "num = ['007', '008']\n",
    "mode = ['DST', 'US06', 'FUDS']\n",
    "\n",
    "for i in temp:\n",
    "    for j in num:\n",
    "        for k in mode:\n",
    "            var_name = 'data_{}'.format(j + '_' + k + '_' + i)\n",
    "            save_path = os.path.join(os.getcwd(), 'refined_data/'+ i + '/' + k + '/' + var_name + '.csv')\n",
    "            print(save_path)\n",
    "            globals()[var_name].to_csv(save_path, index=False)\n"
   ]
  }
 ],
 "metadata": {
  "kernelspec": {
   "display_name": "venv",
   "language": "python",
   "name": "python3"
  },
  "language_info": {
   "codemirror_mode": {
    "name": "ipython",
    "version": 3
   },
   "file_extension": ".py",
   "mimetype": "text/x-python",
   "name": "python",
   "nbconvert_exporter": "python",
   "pygments_lexer": "ipython3",
   "version": "3.12.3"
  }
 },
 "nbformat": 4,
 "nbformat_minor": 2
}
