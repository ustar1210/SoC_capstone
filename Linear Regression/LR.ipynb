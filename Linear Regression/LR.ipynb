{
 "cells": [
  {
   "cell_type": "markdown",
   "metadata": {},
   "source": [
    "# 0. Import Packages"
   ]
  },
  {
   "cell_type": "code",
   "execution_count": 54,
   "metadata": {},
   "outputs": [],
   "source": [
    "import numpy as np\n",
    "import pandas as pd\n",
    "import matplotlib.pyplot as plt\n",
    "import tensorflow as tf\n",
    "import keras\n",
    "import os\n",
    "import glob\n",
    "import seaborn as sns\n",
    "from mpl_toolkits.mplot3d import Axes3D\n",
    "import math\n",
    "\n",
    "import tensorflow as tf\n",
    "from sklearn.preprocessing import MinMaxScaler\n",
    "from sklearn.metrics import mean_squared_error, mean_absolute_error\n",
    "from keras_preprocessing.sequence import TimeseriesGenerator\n",
    "from keras.models import Sequential\n",
    "from keras.layers import Dense, LSTM, SimpleRNN, Dropout\n",
    "from keras.optimizers import RMSprop\n",
    "from keras.callbacks import ModelCheckpoint, EarlyStopping\n",
    "from keras.models import model_from_json\n",
    "from keras import optimizers"
   ]
  },
  {
   "cell_type": "markdown",
   "metadata": {},
   "source": [
    "# 1. Load data"
   ]
  },
  {
   "cell_type": "code",
   "execution_count": 55,
   "metadata": {},
   "outputs": [
    {
     "name": "stdout",
     "output_type": "stream",
     "text": [
      "csv_DST_007 생성 완료\n",
      "csv_DST_008 생성 완료\n",
      "csv_FUDS_007 생성 완료\n",
      "csv_FUDS_008 생성 완료\n",
      "csv_US06_007 생성 완료\n",
      "csv_US06_008 생성 완료\n"
     ]
    }
   ],
   "source": [
    "# 온도 선택 [N10, 0, 10, 20, 25, 30, 40, 50], temp 변수에 설정\n",
    "\n",
    "temp = 'N10'\n",
    "mode = ['DST', 'FUDS' ,'US06']\n",
    "current_dir = os.getcwd()\n",
    "parent_dir = os.path.abspath(os.path.join(current_dir, os.pardir))\n",
    "\n",
    "for m in mode:\n",
    "    data_dir = os.path.join(parent_dir, f'DB Preprocessing/refined_data/{temp}/{m}')\n",
    "    file_names = os.listdir(data_dir)\n",
    "    for file_name in file_names:\n",
    "        csv_dir = os.path.join(data_dir, file_name)\n",
    "        if '007' in file_name:\n",
    "            num = '007'\n",
    "        else: \n",
    "            num = '008'\n",
    "        globals()['csv_{}'.format(f'{m}_{num}')] = pd.DataFrame(pd.read_csv(csv_dir))\n",
    "        print(f'csv_{m}_{num} 생성 완료')"
   ]
  },
  {
   "cell_type": "code",
   "execution_count": 56,
   "metadata": {},
   "outputs": [
    {
     "data": {
      "text/html": [
       "<div>\n",
       "<style scoped>\n",
       "    .dataframe tbody tr th:only-of-type {\n",
       "        vertical-align: middle;\n",
       "    }\n",
       "\n",
       "    .dataframe tbody tr th {\n",
       "        vertical-align: top;\n",
       "    }\n",
       "\n",
       "    .dataframe thead th {\n",
       "        text-align: right;\n",
       "    }\n",
       "</style>\n",
       "<table border=\"1\" class=\"dataframe\">\n",
       "  <thead>\n",
       "    <tr style=\"text-align: right;\">\n",
       "      <th></th>\n",
       "      <th>Current(A)</th>\n",
       "      <th>Voltage(V)</th>\n",
       "      <th>Temperature (C)_1</th>\n",
       "      <th>SoC</th>\n",
       "    </tr>\n",
       "  </thead>\n",
       "  <tbody>\n",
       "    <tr>\n",
       "      <th>0</th>\n",
       "      <td>0.000191</td>\n",
       "      <td>3.526907</td>\n",
       "      <td>-8.332584</td>\n",
       "      <td>80.000000</td>\n",
       "    </tr>\n",
       "    <tr>\n",
       "      <th>1</th>\n",
       "      <td>0.000191</td>\n",
       "      <td>3.526599</td>\n",
       "      <td>-8.565621</td>\n",
       "      <td>80.000000</td>\n",
       "    </tr>\n",
       "    <tr>\n",
       "      <th>2</th>\n",
       "      <td>0.000191</td>\n",
       "      <td>3.526291</td>\n",
       "      <td>-8.332584</td>\n",
       "      <td>80.000000</td>\n",
       "    </tr>\n",
       "    <tr>\n",
       "      <th>3</th>\n",
       "      <td>0.000003</td>\n",
       "      <td>3.525676</td>\n",
       "      <td>-8.332584</td>\n",
       "      <td>80.000000</td>\n",
       "    </tr>\n",
       "    <tr>\n",
       "      <th>4</th>\n",
       "      <td>0.000378</td>\n",
       "      <td>3.525984</td>\n",
       "      <td>-8.332584</td>\n",
       "      <td>80.000000</td>\n",
       "    </tr>\n",
       "    <tr>\n",
       "      <th>...</th>\n",
       "      <td>...</td>\n",
       "      <td>...</td>\n",
       "      <td>...</td>\n",
       "      <td>...</td>\n",
       "    </tr>\n",
       "    <tr>\n",
       "      <th>5279</th>\n",
       "      <td>-0.480845</td>\n",
       "      <td>2.945211</td>\n",
       "      <td>-7.249700</td>\n",
       "      <td>0.356594</td>\n",
       "    </tr>\n",
       "    <tr>\n",
       "      <th>5280</th>\n",
       "      <td>-3.849219</td>\n",
       "      <td>2.086517</td>\n",
       "      <td>-7.094693</td>\n",
       "      <td>0.275559</td>\n",
       "    </tr>\n",
       "    <tr>\n",
       "      <th>5281</th>\n",
       "      <td>-3.849219</td>\n",
       "      <td>2.045275</td>\n",
       "      <td>-7.094693</td>\n",
       "      <td>0.176988</td>\n",
       "    </tr>\n",
       "    <tr>\n",
       "      <th>5282</th>\n",
       "      <td>-3.849219</td>\n",
       "      <td>2.017267</td>\n",
       "      <td>-6.985489</td>\n",
       "      <td>0.079046</td>\n",
       "    </tr>\n",
       "    <tr>\n",
       "      <th>5283</th>\n",
       "      <td>-3.849219</td>\n",
       "      <td>1.999724</td>\n",
       "      <td>-7.094693</td>\n",
       "      <td>0.000000</td>\n",
       "    </tr>\n",
       "  </tbody>\n",
       "</table>\n",
       "<p>5284 rows × 4 columns</p>\n",
       "</div>"
      ],
      "text/plain": [
       "      Current(A)  Voltage(V)  Temperature (C)_1        SoC\n",
       "0       0.000191    3.526907          -8.332584  80.000000\n",
       "1       0.000191    3.526599          -8.565621  80.000000\n",
       "2       0.000191    3.526291          -8.332584  80.000000\n",
       "3       0.000003    3.525676          -8.332584  80.000000\n",
       "4       0.000378    3.525984          -8.332584  80.000000\n",
       "...          ...         ...                ...        ...\n",
       "5279   -0.480845    2.945211          -7.249700   0.356594\n",
       "5280   -3.849219    2.086517          -7.094693   0.275559\n",
       "5281   -3.849219    2.045275          -7.094693   0.176988\n",
       "5282   -3.849219    2.017267          -6.985489   0.079046\n",
       "5283   -3.849219    1.999724          -7.094693   0.000000\n",
       "\n",
       "[5284 rows x 4 columns]"
      ]
     },
     "execution_count": 56,
     "metadata": {},
     "output_type": "execute_result"
    }
   ],
   "source": [
    "csv_DST_007"
   ]
  },
  {
   "cell_type": "markdown",
   "metadata": {},
   "source": [
    "# 2. V, I, T / SoC 분리 "
   ]
  },
  {
   "cell_type": "code",
   "execution_count": 57,
   "metadata": {},
   "outputs": [
    {
     "name": "stdout",
     "output_type": "stream",
     "text": [
      "input_DST_007 생성 완료\n",
      "output_DST_007 생성 완료\n",
      "input_DST_008 생성 완료\n",
      "output_DST_008 생성 완료\n",
      "input_FUDS_007 생성 완료\n",
      "output_FUDS_007 생성 완료\n",
      "input_FUDS_008 생성 완료\n",
      "output_FUDS_008 생성 완료\n",
      "input_US06_007 생성 완료\n",
      "output_US06_007 생성 완료\n",
      "input_US06_008 생성 완료\n",
      "output_US06_008 생성 완료\n"
     ]
    }
   ],
   "source": [
    "num = ['007','008']\n",
    "\n",
    "def df2numpy(df):\n",
    "    np = df.values\n",
    "    return np\n",
    "\n",
    "for m in mode:\n",
    "    for n in num:\n",
    "        var_name = f'csv_{m}_{n}'\n",
    "        csv = globals()[var_name]\n",
    "        globals()[f'input_{m}_{n}'] = df2numpy(csv[['Current(A)', 'Voltage(V)', 'Temperature (C)_1']])\n",
    "        print(f'input_{m}_{n} 생성 완료')\n",
    "        globals()[f'output_{m}_{n}'] = df2numpy(csv[['SoC']])\n",
    "        print(f'output_{m}_{n} 생성 완료')"
   ]
  },
  {
   "cell_type": "code",
   "execution_count": 58,
   "metadata": {},
   "outputs": [
    {
     "name": "stdout",
     "output_type": "stream",
     "text": [
      "(5284, 3)\n"
     ]
    },
    {
     "data": {
      "text/plain": [
       "array([[ 1.90588195e-04,  3.52690697e+00, -8.33258438e+00],\n",
       "       [ 1.90588195e-04,  3.52659917e+00, -8.56562138e+00],\n",
       "       [ 1.90588195e-04,  3.52629137e+00, -8.33258438e+00],\n",
       "       ...,\n",
       "       [-3.84921932e+00,  2.04527473e+00, -7.09469271e+00],\n",
       "       [-3.84921932e+00,  2.01726723e+00, -6.98548889e+00],\n",
       "       [-3.84921932e+00,  1.99972391e+00, -7.09469271e+00]])"
      ]
     },
     "execution_count": 58,
     "metadata": {},
     "output_type": "execute_result"
    }
   ],
   "source": [
    "print(input_DST_007.shape)\n",
    "input_DST_007"
   ]
  },
  {
   "cell_type": "code",
   "execution_count": 59,
   "metadata": {},
   "outputs": [
    {
     "name": "stdout",
     "output_type": "stream",
     "text": [
      "(5284, 1)\n"
     ]
    },
    {
     "data": {
      "text/plain": [
       "array([[8.00000000e+01],\n",
       "       [8.00000000e+01],\n",
       "       [8.00000000e+01],\n",
       "       ...,\n",
       "       [1.76987717e-01],\n",
       "       [7.90458071e-02],\n",
       "       [0.00000000e+00]])"
      ]
     },
     "execution_count": 59,
     "metadata": {},
     "output_type": "execute_result"
    }
   ],
   "source": [
    "print(output_DST_007.shape)\n",
    "output_DST_007"
   ]
  },
  {
   "cell_type": "markdown",
   "metadata": {},
   "source": [
    "# 3. Split train and test dataset"
   ]
  },
  {
   "cell_type": "code",
   "execution_count": 69,
   "metadata": {},
   "outputs": [
    {
     "name": "stdout",
     "output_type": "stream",
     "text": [
      "(8, 1, 1)\n",
      "[[0 1 2]\n",
      " [1 2 3]\n",
      " [2 3 4]\n",
      " [3 4 5]\n",
      " [4 5 6]\n",
      " [5 6 7]\n",
      " [6 7 8]\n",
      " [7 8 9]]\n",
      "[[[12]]\n",
      "\n",
      " [[13]]\n",
      "\n",
      " [[14]]\n",
      "\n",
      " [[15]]\n",
      "\n",
      " [[16]]\n",
      "\n",
      " [[17]]\n",
      "\n",
      " [[18]]\n",
      "\n",
      " [[19]]]\n"
     ]
    }
   ],
   "source": [
    "def create_dataset(input, output, look_back=1):\n",
    "    dataX, dataY = [], []\n",
    "    for i in range(len(input) - look_back + 1):\n",
    "        a = input[i:(i + look_back)]\n",
    "        dataX.append(a)\n",
    "        dataY.append(output[i + look_back -1])\n",
    "    dataY = np.reshape(dataY, (len(dataY), 1, 1))\n",
    "    print(dataY.shape)\n",
    "    return np.array(dataX), np.array(dataY)\n",
    "\n",
    "a = [0,1,2,3,4,5,6,7,8,9]\n",
    "b = [10,11,12,13,14,15,16,17,18,19]\n",
    "x, y = create_dataset(a, b, 3)\n",
    "print(x)\n",
    "print(y)"
   ]
  },
  {
   "cell_type": "code",
   "execution_count": 70,
   "metadata": {},
   "outputs": [
    {
     "name": "stdout",
     "output_type": "stream",
     "text": [
      "(5265, 1, 1)\n",
      "(5651, 1, 1)\n",
      "(5265, 20, 3)\n",
      "(5265, 1, 1)\n"
     ]
    }
   ],
   "source": [
    "# look_back 변수 설정(자연수. 보통 20 설정.)\n",
    "look_back = 20\n",
    "dstX, dstY = create_dataset(input_DST_007, output_DST_007, look_back)\n",
    "us06X, us06Y = create_dataset(input_US06_007, output_DST_007, look_back)\n",
    "fudsX, fudsY = create_dataset(input_FUDS_007, output_FUDS_007, look_back)"
   ]
  },
  {
   "cell_type": "code",
   "execution_count": null,
   "metadata": {},
   "outputs": [],
   "source": []
  }
 ],
 "metadata": {
  "kernelspec": {
   "display_name": "venv",
   "language": "python",
   "name": "python3"
  },
  "language_info": {
   "codemirror_mode": {
    "name": "ipython",
    "version": 3
   },
   "file_extension": ".py",
   "mimetype": "text/x-python",
   "name": "python",
   "nbconvert_exporter": "python",
   "pygments_lexer": "ipython3",
   "version": "3.12.3"
  }
 },
 "nbformat": 4,
 "nbformat_minor": 2
}
